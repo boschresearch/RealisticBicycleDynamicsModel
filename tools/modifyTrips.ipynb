{
 "cells": [
  {
   "cell_type": "code",
   "execution_count": 21,
   "metadata": {},
   "outputs": [],
   "source": [
    "import random\n",
    "import xml.etree.ElementTree as ET\n",
    "import random\n",
    "import numpy as np"
   ]
  },
  {
   "cell_type": "code",
   "execution_count": null,
   "metadata": {},
   "outputs": [],
   "source": [
    "pathToYourBicycleTripsXml = \"path/to/bicycle.trips.xml\"\n",
    "pathToYourNewBicycleTripsXml = \"path/to/bicycle.trips.BicycleModel.xml\""
   ]
  },
  {
   "cell_type": "code",
   "execution_count": 23,
   "metadata": {},
   "outputs": [],
   "source": [
    "tree = ET.parse(pathToYourBicycleTripsXml)\n",
    "root = tree.getroot()"
   ]
  },
  {
   "cell_type": "code",
   "execution_count": null,
   "metadata": {},
   "outputs": [],
   "source": [
    "lowerGaps = random.uniform(0, 1)\n",
    "lcPushy = random.uniform(0, 1)\n",
    "new_child = ET.Element('vType')\n",
    "new_child.set('id', \"bike\")\n",
    "new_child.set('accel', \"4\")\n",
    "new_child.set('decel', \"3.5\")\n",
    "new_child.set('maxSpeed', str(12+1.5))\n",
    "new_child.set('sigma', '0')\n",
    "new_child.set('emergencyDecel', '4.9')\n",
    "new_child.set('length', '1.9')\n",
    "new_child.set('width', '0.6')\n",
    "new_child.set('minGap', '0.3')\n",
    "new_child.set('color', '1,1,0')\n",
    "new_child.set('vClass', 'bicycle')\n",
    "new_child.set('laneChangeModel', 'SL2015')\n",
    "new_child.set('carFollowModel', 'BicycleModel')\n",
    "new_child.set('latAlignment', 'arbitrary')\n",
    "new_child.set('lcCooperativeSpeed','0.5')\n",
    "new_child.set('minGapLat', '0.3')\n",
    "new_child.set('lcTurnAlignmentDistance', '5.0')\n",
    "\n",
    "root.append(new_child)\n",
    "new_child.tail = '\\n'"
   ]
  },
  {
   "cell_type": "code",
   "execution_count": 25,
   "metadata": {},
   "outputs": [],
   "source": [
    "child_nodes = root.findall('trip')\n",
    "for child_node in child_nodes:\n",
    "    root.remove(child_node)"
   ]
  },
  {
   "cell_type": "code",
   "execution_count": null,
   "metadata": {},
   "outputs": [],
   "source": [
    "for child in child_nodes:\n",
    "    child.set('type', 'bike')\n",
    "    child.set('bikeFactor', str((np.random.standard_t(17.28687593627661, size=1)[0] * 1.3904402273578103 + 7.74811082069005)/12))\n",
    "    root.append(child)\n",
    "    child.tail = '\\n'\n",
    "tree.write(pathToYourNewBicycleTripsXml)"
   ]
  }
 ],
 "metadata": {
  "kernelspec": {
   "display_name": "Python 3",
   "language": "python",
   "name": "python3"
  },
  "language_info": {
   "codemirror_mode": {
    "name": "ipython",
    "version": 3
   },
   "file_extension": ".py",
   "mimetype": "text/x-python",
   "name": "python",
   "nbconvert_exporter": "python",
   "pygments_lexer": "ipython3",
   "version": "3.8.10"
  }
 },
 "nbformat": 4,
 "nbformat_minor": 2
}
